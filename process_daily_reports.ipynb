{
 "cells": [
  {
   "cell_type": "markdown",
   "metadata": {},
   "source": [
    "### Fetch daily reports data from Github and update Bigquery table\n",
    "- Github repository https://github.com/CSSEGISandData/COVID-19/tree/master/csse_covid_19_data/csse_covid_19_daily_reports\n",
    "- John Hopkins dashboard https://www.arcgis.com/apps/opsdashboard/index.html#/bda7594740fd40299423467b48e9ecf6\n",
    "- Always the fetch the lates csv (yesterday)"
   ]
  },
  {
   "cell_type": "code",
   "execution_count": null,
   "metadata": {},
   "outputs": [],
   "source": [
    "from datetime import timedelta, date, datetime\n",
    "from collections import Counter\n",
    "import pandas as pd, numpy as np\n",
    "from google.cloud import bigquery\n",
    "from google.oauth2 import service_account\n",
    "from google.cloud import storage"
   ]
  },
  {
   "cell_type": "markdown",
   "metadata": {},
   "source": [
    "### Bigquery credentials\n",
    "https://googleapis.dev/python/bigquery/latest/index.html\n",
    "- Create a google project\n",
    "- Create a bigquery dataset in this project\n",
    "- Create table called \"daily_reports\""
   ]
  },
  {
   "cell_type": "code",
   "execution_count": null,
   "metadata": {},
   "outputs": [],
   "source": [
    "cred_json = 'Directory of google api credential json'\n",
    "project_id = 'Google project id'\n",
    "project_name = 'Google project name'\n",
    "dataset = 'name of the corresponding Bigquery dataset'\n",
    "credentials = service_account.Credentials.from_service_account_file(cred_json)\n",
    "client = bigquery.Client(project = project_id,credentials = credentials)"
   ]
  },
  {
   "cell_type": "code",
   "execution_count": null,
   "metadata": {},
   "outputs": [],
   "source": [
    "QUERY = \"SELECT * from \"+project_name+'.'+\"daily_reports ORDER BY Last_Update DESC LIMIT 1\"\n",
    "query_job = client.query(QUERY)\n",
    "df_last = query_job.to_dataframe()\n",
    "df_last"
   ]
  },
  {
   "cell_type": "code",
   "execution_count": null,
   "metadata": {},
   "outputs": [],
   "source": [
    "latest_day = df_last['Last_Update'].iloc[-1].date()\n",
    "yesterday = (date.today() - timedelta(days=1))\n",
    "isupdate = False if (yesterday-latest_day).days>0 else True"
   ]
  },
  {
   "cell_type": "code",
   "execution_count": null,
   "metadata": {},
   "outputs": [],
   "source": [
    "def daterange(date1, date2):\n",
    "    for n in range(int ((date2 - date1).days)+1):\n",
    "        yield date1 + timedelta(n)\n",
    "        \n",
    "def parse_date(date_):\n",
    "    if 'T' in date_:\n",
    "        res = datetime.strptime(date_, '%Y-%m-%dT%H:%M:%S')\n",
    "    elif len(date_.split(' ')[0])<8:\n",
    "        res = datetime.strptime(date_,'%m/%d/%y %H:%M')\n",
    "    else:\n",
    "        res =  datetime.strptime(date_, '%m/%d/%Y %H:%M')\n",
    "    return res       "
   ]
  },
  {
   "cell_type": "markdown",
   "metadata": {},
   "source": [
    "### Fetching data from Github repository and process it"
   ]
  },
  {
   "cell_type": "code",
   "execution_count": null,
   "metadata": {},
   "outputs": [],
   "source": [
    "base_url = 'https://raw.githubusercontent.com/CSSEGISandData/COVID-19/master/csse_covid_19_data/csse_covid_19_daily_reports/'\n",
    "if  not isupdate:\n",
    "    # Delete everything in the table first\n",
    "    dml_statement = (\n",
    "        \"DELETE coronavirus_dashboard_data.daily_reports WHERE TRUE \"\n",
    "        )\n",
    "    query_job = client.query(dml_statement)  # API request\n",
    "    query_job.result()\n",
    "    yesteday = (date.today() - timedelta(days=1)).strftime(\"%m-%d-%Y\")\n",
    "    url = base_url+yesteday+'.csv'\n",
    "    df = pd.read_csv(url)\n",
    "else:\n",
    "    print('daily_reports table already up to date')"
   ]
  },
  {
   "cell_type": "code",
   "execution_count": null,
   "metadata": {},
   "outputs": [],
   "source": [
    "# Formating the columns\n",
    "df = df.drop(columns=['FIPS','Admin2','Combined_Key'])\n",
    "df = df.rename(columns={'Province_State':'Province/State','Country_Region':'Country/Region','Last_Update':'Last Update','Lat':'Latitude','Long_':'Longitude'})\n",
    "cols = ['Province/State','Country/Region','Last Update','Confirmed','Deaths','Recovered','Latitude','Longitude']\n",
    "df = df[cols]\n",
    "df['Country/Region']=df['Country/Region'].apply(lambda x: 'China' if 'Mainland' in x else x)\n",
    "df['Province/State']=df.apply(lambda x: x['Province/State'] if isinstance(x['Province/State'],str) else x['Country/Region'], axis=1)"
   ]
  },
  {
   "cell_type": "code",
   "execution_count": null,
   "metadata": {},
   "outputs": [],
   "source": [
    "# Drop duplictes and empty records\n",
    "df_new = df.drop_duplicates()\n",
    "df_new = df_new.dropna(subset=['Confirmed','Deaths','Recovered'],how='all')\n",
    "print(len(df),len(df_new))"
   ]
  },
  {
   "cell_type": "code",
   "execution_count": null,
   "metadata": {},
   "outputs": [],
   "source": [
    "df_new.to_csv('data_dailyreport.csv', index = None, header=True)"
   ]
  },
  {
   "cell_type": "markdown",
   "metadata": {},
   "source": [
    "### Write to Bigquery table"
   ]
  },
  {
   "cell_type": "code",
   "execution_count": null,
   "metadata": {},
   "outputs": [],
   "source": [
    "table_id = project_id+'.'+dataset+'.daily_reports'\n",
    "table = client.get_table(table_id) "
   ]
  },
  {
   "cell_type": "code",
   "execution_count": null,
   "metadata": {},
   "outputs": [],
   "source": [
    "if not isupdate:\n",
    "    job_config = bigquery.LoadJobConfig(\n",
    "        source_format=bigquery.SourceFormat.CSV, skip_leading_rows=1, autodetect=True,\n",
    "    )\n",
    "\n",
    "    with open('data_dailyreport.csv', \"rb\") as source_file:\n",
    "        job = client.load_table_from_file(source_file, table_id, job_config=job_config)\n",
    "\n",
    "    job.result()  # Waits for the job to complete.\n",
    "\n",
    "    table = client.get_table(table_id)  # Make an API request.\n",
    "    print(\n",
    "        \"Loaded {} rows and {} columns to {}\".format(\n",
    "            table.num_rows, len(table.schema), table_id\n",
    "        )\n",
    "    )"
   ]
  }
 ],
 "metadata": {
  "kernelspec": {
   "display_name": "venv_corona",
   "language": "python",
   "name": "venv_corona"
  },
  "language_info": {
   "codemirror_mode": {
    "name": "ipython",
    "version": 3
   },
   "file_extension": ".py",
   "mimetype": "text/x-python",
   "name": "python",
   "nbconvert_exporter": "python",
   "pygments_lexer": "ipython3",
   "version": "3.7.6"
  }
 },
 "nbformat": 4,
 "nbformat_minor": 2
}
