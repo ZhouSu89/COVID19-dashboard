{
 "cells": [
  {
   "cell_type": "markdown",
   "metadata": {},
   "source": [
    "### Fetch daily reports data from Github and update Bigquery table\n",
    "- Github repository https://github.com/CSSEGISandData/COVID-19/tree/master/csse_covid_19_data/csse_covid_19_time_series\n",
    "- John Hopkins dashboard https://www.arcgis.com/apps/opsdashboard/index.html#/bda7594740fd40299423467b48e9ecf6\n",
    "- Always the fetch the lates csv (yesterday)"
   ]
  },
  {
   "cell_type": "code",
   "execution_count": null,
   "metadata": {},
   "outputs": [],
   "source": [
    "from datetime import timedelta, date, datetime\n",
    "from collections import Counter\n",
    "import pandas as pd, numpy as np\n",
    "from google.cloud import bigquery\n",
    "from google.oauth2 import service_account\n",
    "from google.cloud import storage"
   ]
  },
  {
   "cell_type": "markdown",
   "metadata": {},
   "source": [
    "### First setup bigquery credential\n",
    "https://googleapis.dev/python/bigquery/latest/index.html\n",
    "- Create a google project\n",
    "- Create a bigquery dataset in this project\n",
    "- Create table called \"time_series\""
   ]
  },
  {
   "cell_type": "code",
   "execution_count": null,
   "metadata": {},
   "outputs": [],
   "source": [
    "cred_json = 'Directory of google api credential json'\n",
    "project_id = 'Google project id'\n",
    "project_name = 'Google project name'\n",
    "dataset = 'name of the corresponding Bigquery dataset'\n",
    "credentials = service_account.Credentials.from_service_account_file(cred_json)\n",
    "client = bigquery.Client(project = project_id,credentials = credentials)"
   ]
  },
  {
   "cell_type": "markdown",
   "metadata": {},
   "source": [
    "### Fetch time series data and  process it"
   ]
  },
  {
   "cell_type": "code",
   "execution_count": null,
   "metadata": {},
   "outputs": [],
   "source": [
    "base_url = 'https://raw.githubusercontent.com/CSSEGISandData/COVID-19/master/csse_covid_19_data/csse_covid_19_time_series/'\n",
    "df_confirmed = pd.read_csv(base_url+'time_series_covid19_confirmed_global.csv')\n",
    "df_death = pd.read_csv(base_url+'time_series_covid19_deaths_global.csv')\n",
    "df_recovered = pd.read_csv(base_url + 'time_series_covid19_recovered_global.csv')"
   ]
  },
  {
   "cell_type": "code",
   "execution_count": null,
   "metadata": {},
   "outputs": [],
   "source": [
    "# Concat the data\n",
    "df_confirmed['Status']='Confirmed'\n",
    "df_death['Status']='Deaths'\n",
    "df_recovered['Status']='Recovered'\n",
    "df = pd.concat([df_confirmed, df_death, df_recovered],axis=0)\n",
    "# Check duplicates\n",
    "dg=df.groupby(['Country/Region', 'Province/State','Status'])\n",
    "print(len(df), len(dg))"
   ]
  },
  {
   "cell_type": "markdown",
   "metadata": {},
   "source": [
    "### Query the last update in the bigquery table"
   ]
  },
  {
   "cell_type": "code",
   "execution_count": null,
   "metadata": {},
   "outputs": [],
   "source": [
    "QUERY =\"SELECT * from \"+project_name+'.'+\"time_series ORDER BY Last_Update DESC LIMIT 1\"\n",
    "query_job = client.query(QUERY)\n",
    "df_last = query_job.to_dataframe()\n",
    "df_last"
   ]
  },
  {
   "cell_type": "code",
   "execution_count": null,
   "metadata": {},
   "outputs": [],
   "source": [
    "# Create list of dates to be updated\n",
    "start_dt = df_last['Date'].iloc[0]+timedelta(1)\n",
    "end_dt = date.today()-timedelta(1)\n",
    "list_dates = []\n",
    "for dt in pd.date_range(start_dt, end_dt):\n",
    "    list_dates.append(dt.strftime(\"%-m/%-d/%y\"))\n",
    "list_dates    "
   ]
  },
  {
   "cell_type": "code",
   "execution_count": null,
   "metadata": {},
   "outputs": [],
   "source": [
    "isupdated = True\n",
    "if len(list_dates)>0:\n",
    "    isupdated = False\n",
    "    records = []\n",
    "    for index, row in df.iterrows():\n",
    "        left = row[['Province/State','Country/Region','Lat','Long','Status']]\n",
    "        for day in list_dates:\n",
    "            record = {'Date': datetime.strptime(day,\"%m/%d/%y\"),\n",
    "                 'Number':row[day]}\n",
    "        \n",
    "            record = pd.DataFrame([{**left, **record}])\n",
    "            records.append(record)\n",
    "    dh = pd.concat(records, axis=0) \n",
    "    # remove empty records\n",
    "    dh['empty']=dh.Number.isna()\n",
    "    dh = dh[dh['empty']==False]\n",
    "    dh = dh.drop(columns=['empty'])\n",
    "else:\n",
    "    print('Time series table already up to date')"
   ]
  },
  {
   "cell_type": "markdown",
   "metadata": {},
   "source": [
    "### Append new data to Bigquery table"
   ]
  },
  {
   "cell_type": "code",
   "execution_count": null,
   "metadata": {},
   "outputs": [],
   "source": [
    "table_id =project_id+'.'+dataset+'.time_series'\n",
    "table = client.get_table(table_id) "
   ]
  },
  {
   "cell_type": "code",
   "execution_count": null,
   "metadata": {},
   "outputs": [],
   "source": [
    "if not isupdated>0:\n",
    "    dh = dh.astype({'Date':str,'Number':float})\n",
    "    dh['Province/State']=dh['Province/State'].apply(lambda x: x if isinstance(x,str) else None)\n",
    "    rows_to_insert = []\n",
    "    for i in range(len(dh)):\n",
    "        rows_to_insert.append(tuple([x for x in dh.iloc[i].to_numpy()]))\n",
    "\n",
    "    errors = client.insert_rows(table, rows_to_insert)  # Make an API request.\n",
    "    if errors == []:\n",
    "        print(\"New rows have been added.\")"
   ]
  }
 ],
 "metadata": {
  "kernelspec": {
   "display_name": "venv_corona",
   "language": "python",
   "name": "venv_corona"
  },
  "language_info": {
   "codemirror_mode": {
    "name": "ipython",
    "version": 3
   },
   "file_extension": ".py",
   "mimetype": "text/x-python",
   "name": "python",
   "nbconvert_exporter": "python",
   "pygments_lexer": "ipython3",
   "version": "3.7.6"
  }
 },
 "nbformat": 4,
 "nbformat_minor": 2
}
